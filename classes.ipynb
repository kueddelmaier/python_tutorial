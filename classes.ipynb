{
 "cells": [
  {
   "cell_type": "markdown",
   "id": "irish-editor",
   "metadata": {},
   "source": [
    "# Python Classes"
   ]
  },
  {
   "cell_type": "markdown",
   "id": "sticky-samoa",
   "metadata": {},
   "source": [
    "Object oriented programming (OOP) paradigm is built around the idea of having objects that belong to a particular type. In a sense, the type is what explains us the object.\n",
    "\n",
    "The explanation of an object is of crucial importance for OOP. We need to have a comprehensive understanding of:\n",
    "\n",
    "- What an object represents\n",
    "- What kind of data the object stores\n",
    "- How we can interact with the object\n",
    "- How we can implement the object in our code\n",
    "\n",
    "All these points that constitute the explanation of an object are defined with classes. Everything in Python is an object of a type such as integers, lists, dictionaries, functions and so on. We define a type of object using classes."
   ]
  },
  {
   "cell_type": "markdown",
   "id": "desperate-direction",
   "metadata": {},
   "source": [
    "Class creates a user-defined data structure, which holds its own data members and member functions, which can be accessed and used by creating an instance of that class. A class is like a blueprint for an object."
   ]
  },
  {
   "cell_type": "markdown",
   "id": "neutral-cleaners",
   "metadata": {},
   "source": [
    "We use classes in Python all the time. For instance, when we create a list, we create an instance of type list."
   ]
  },
  {
   "cell_type": "code",
   "execution_count": 1,
   "id": "successful-senator",
   "metadata": {},
   "outputs": [],
   "source": [
    "words = ['data', 'science', 'machine', 'learning']"
   ]
  },
  {
   "cell_type": "code",
   "execution_count": 3,
   "id": "vocal-indianapolis",
   "metadata": {},
   "outputs": [
    {
     "name": "stdout",
     "output_type": "stream",
     "text": [
      "['science', 'machine', 'learning']\n"
     ]
    }
   ],
   "source": [
    "words.remove('data')\n",
    "print(words)\n"
   ]
  },
  {
   "cell_type": "markdown",
   "id": "intense-treasure",
   "metadata": {},
   "source": [
    "## Creating a class"
   ]
  },
  {
   "cell_type": "code",
   "execution_count": 5,
   "id": "ready-sender",
   "metadata": {},
   "outputs": [],
   "source": [
    "class Book():  \n",
    "    \n",
    "    def __init__(self, name, writer, word_length):\n",
    "        self.name = name\n",
    "        self.writer = writer\n",
    "        self.word_length = word_length"
   ]
  },
  {
   "cell_type": "markdown",
   "id": "lesser-harris",
   "metadata": {},
   "source": [
    "The __init__ is a special function that is automatically executed when an instance of class is created. It is also called class constructor.\n",
    "\n",
    "The parameters of the init function represent the data attributes of a class. Thus, if we need to specify the arguments for name, writer, and length parameters to create an instance of Book."
   ]
  },
  {
   "cell_type": "markdown",
   "id": "facial-arctic",
   "metadata": {},
   "source": [
    "Note: Self refers to the instance itself. You can use any word instead of “self” but it is a highly common practice to use “self”.\n",
    "\n",
    "Let’s create an instance."
   ]
  },
  {
   "cell_type": "code",
   "execution_count": 6,
   "id": "crucial-jacket",
   "metadata": {},
   "outputs": [
    {
     "name": "stdout",
     "output_type": "stream",
     "text": [
      "<class '__main__.Book'>\n"
     ]
    }
   ],
   "source": [
    "b1 = Book(\"Pandas\", \"John Doe\", 100000)\n",
    "print(type(b1))\n"
   ]
  },
  {
   "cell_type": "markdown",
   "id": "nasty-irish",
   "metadata": {},
   "source": [
    "b1 is an object that belongs to the Book class. We can confirm it by using the type function which returns the type of an object.\n",
    "\n",
    "We can access or modify the attributes of a class using the following way."
   ]
  },
  {
   "cell_type": "code",
   "execution_count": 7,
   "id": "insured-tourist",
   "metadata": {},
   "outputs": [
    {
     "name": "stdout",
     "output_type": "stream",
     "text": [
      "Pandas\n"
     ]
    }
   ],
   "source": [
    "print(b1.name)"
   ]
  },
  {
   "cell_type": "code",
   "execution_count": 9,
   "id": "nervous-recruitment",
   "metadata": {},
   "outputs": [
    {
     "name": "stdout",
     "output_type": "stream",
     "text": [
      "NumPy\n"
     ]
    }
   ],
   "source": [
    "b1.name = 'NumPy' #updates the name attribute\n",
    "print(b1.name)"
   ]
  },
  {
   "cell_type": "code",
   "execution_count": null,
   "id": "mental-freeware",
   "metadata": {},
   "outputs": [],
   "source": [
    "## Class methods"
   ]
  },
  {
   "cell_type": "markdown",
   "id": "unnecessary-episode",
   "metadata": {},
   "source": [
    "The Book class only have data attributes. We should add methods (i.e. procedural attributes) to make it for useful and functional.\n",
    "\n",
    "For instance, we can implement a method that returns the number of pages given the fontsize. We specify the length of the book in number of words. The method will calculate the number of pages based on the length and fontsize."
   ]
  },
  {
   "cell_type": "code",
   "execution_count": 18,
   "id": "efficient-ancient",
   "metadata": {},
   "outputs": [],
   "source": [
    "class Book():  \n",
    "    \n",
    "    def __init__(self, name, writer, word_length):\n",
    "        self.name = name\n",
    "        self.writer = writer\n",
    "        self.word_length = word_length\n",
    "        \n",
    "    def number_of_pages(self, fontsize=12):\n",
    "        word_length = self.word_length\n",
    "        if fontsize == 12:\n",
    "            words_in_page = 300\n",
    "        else:\n",
    "            words_in_page = 300 - (fontsize - 12) * 10\n",
    "        return round(word_length / words_in_page)"
   ]
  },
  {
   "cell_type": "markdown",
   "id": "exact-sensitivity",
   "metadata": {},
   "source": [
    "We add the number_of_pages in the class definition. It calculates the number of pages of a book based on the number of words and fontsize.\n",
    "\n",
    "If a function we declare inside a class definition needs to access data attributes of an instance, we need to tell the function how to access them. This is what we did in the first line of the number_of_pages function.\n",
    "\n",
    "We can access a method from the class or the instance. Here is a simple example that demonstrates both ways."
   ]
  },
  {
   "cell_type": "code",
   "execution_count": 20,
   "id": "rolled-latter",
   "metadata": {},
   "outputs": [
    {
     "data": {
      "text/plain": [
       "333"
      ]
     },
     "execution_count": 20,
     "metadata": {},
     "output_type": "execute_result"
    }
   ],
   "source": [
    "b1 = Book(\"Pandas\", \"John Doe\", 100000)\n",
    "b1.number_of_pages()\n"
   ]
  },
  {
   "cell_type": "markdown",
   "id": "registered-slovak",
   "metadata": {},
   "source": [
    "There are certain methods that we need to define for our class in order to use some built-in functions of Python. Consider the print function."
   ]
  },
  {
   "cell_type": "code",
   "execution_count": 23,
   "id": "dietary-wayne",
   "metadata": {},
   "outputs": [
    {
     "name": "stdout",
     "output_type": "stream",
     "text": [
      "<__main__.Book object at 0x7f62a0609cd0>\n"
     ]
    }
   ],
   "source": [
    "print(b1)"
   ]
  },
  {
   "cell_type": "markdown",
   "id": "electronic-lesson",
   "metadata": {},
   "source": [
    "The print function returns the type and the memory location of the object by default. However, we can customize its behavior by implementing the __str__ method in our class."
   ]
  },
  {
   "cell_type": "code",
   "execution_count": 24,
   "id": "single-swaziland",
   "metadata": {},
   "outputs": [],
   "source": [
    "class Book():  \n",
    "    \n",
    "    def __init__(self, name, writer, word_length):\n",
    "        self.name = name\n",
    "        self.writer = writer\n",
    "        self.word_length = word_length\n",
    "        \n",
    "    def __repr__(self):\n",
    "        return \"<\" + self.name + \", by \" + self.writer + \">\"\n",
    "        \n",
    "    def number_of_pages(self, fontsize=12):\n",
    "        word_length = self.word_length\n",
    "        if fontsize == 12:\n",
    "            words_in_page = 300\n",
    "        else:\n",
    "            words_in_page = 300 - (fontsize - 12) * 10\n",
    "        return round(word_length / words_in_page)\n",
    "    \n",
    "    "
   ]
  },
  {
   "cell_type": "code",
   "execution_count": 27,
   "id": "absolute-chambers",
   "metadata": {},
   "outputs": [
    {
     "name": "stdout",
     "output_type": "stream",
     "text": [
      "<Pandas, by John Doe>\n"
     ]
    }
   ],
   "source": [
    "b1 = Book(\"Pandas\", \"John Doe\", 100000)\n",
    "print(b1)"
   ]
  },
  {
   "cell_type": "markdown",
   "id": "handed-dependence",
   "metadata": {},
   "source": [
    "## Class vs instance variables"
   ]
  },
  {
   "cell_type": "markdown",
   "id": "surface-wagner",
   "metadata": {},
   "source": [
    "Class variables are declared inside a class but outside of any function. Instance variables are declared inside the constructor which is the __init__ method.\n",
    "\n",
    "The class variables are more general and likely to apply all of the instances of a class. On the other hand, instance variables are more specific and defined for each instance separately. Having a distinction between class and instance variables is quite useful.\n",
    "\n",
    "Consider the Book class we defined earlier. We run a publishing company and have some standards for the books we publish such as page width and color for the cover. If we define them as class variables, we do not have to explicitly declare for each instance created."
   ]
  },
  {
   "cell_type": "code",
   "execution_count": 43,
   "id": "hungry-facility",
   "metadata": {},
   "outputs": [],
   "source": [
    "class Book():  \n",
    "    page_width = 14\n",
    "    cover_color = \"blue\" \n",
    "    \n",
    "    def __init__(self, name, writer, word_length):\n",
    "        self.name = name\n",
    "        self.writer = writer\n",
    "        self.word_length = word_length\n",
    "        \n",
    "    def __repr__(self):\n",
    "        return \"<\" + self.name + \", by \" + self.writer + \">\"\n",
    "        \n",
    "    def number_of_pages(self, fontsize=12):\n",
    "        word_length = self.word_length\n",
    "        if fontsize == 12:\n",
    "            words_in_page = 300\n",
    "        else:\n",
    "            words_in_page = 300 - (fontsize - 12) * 10\n",
    "        return round(word_length / words_in_page)\n"
   ]
  },
  {
   "cell_type": "markdown",
   "id": "religious-superintendent",
   "metadata": {},
   "source": [
    " ## Child classes"
   ]
  },
  {
   "cell_type": "markdown",
   "id": "improving-sapphire",
   "metadata": {},
   "source": [
    "We can create a class based on a different class. Let’s create a class called “ColorBook” based on the “Book” class."
   ]
  },
  {
   "cell_type": "code",
   "execution_count": 35,
   "id": "equivalent-rally",
   "metadata": {},
   "outputs": [],
   "source": [
    "class ColorBook(Book):\n",
    "    def __init__(self, name, writer, word_length, color, has_image):\n",
    "        Book.__init__(self, name, writer, word_length)\n",
    "        self.color = color\n",
    "        self.has_image = has_image\n",
    "    "
   ]
  },
  {
   "cell_type": "markdown",
   "id": "facial-luther",
   "metadata": {},
   "source": [
    "The ColorBook is a child class of the Book class. When we create a class in this way, the child class copies the attributes (both data and procedural) from the parent class. This concept is called inheritance which makes the OOP more efficient and powerful.\n",
    "\n",
    "It is similar to the inheritance in real life. Most of our genome come from our parents or ancestors. We inherit from them. Thus, we have similarities with our parents.\n",
    "\n",
    "A child class can have new attributes in addition to the ones inherited from the parent class. Furthermore, we have the option to modify or override the inherited attributes.\n",
    "\n",
    "Let’s define the __init__ function of the ColorBook class. It will have two additional parameters which are “color” indication the color of pages and “has_image” indicating if there are images in the book."
   ]
  },
  {
   "cell_type": "markdown",
   "id": "united-vacation",
   "metadata": {},
   "source": [
    "Since the name, writer, and word_length have already been defined in the Book class, we can just copy the __init__ method from it. We just need to define the additional attributes.\n",
    "\n",
    "Note: We are free to define each data attribute manually for the child class. Using the __init__ of parent is optional.\n",
    "\n",
    "Let’s create an instance of the ColorBook class."
   ]
  },
  {
   "cell_type": "code",
   "execution_count": 37,
   "id": "invisible-worker",
   "metadata": {},
   "outputs": [
    {
     "data": {
      "text/plain": [
       "'Seaborn'"
      ]
     },
     "execution_count": 37,
     "metadata": {},
     "output_type": "execute_result"
    }
   ],
   "source": [
    "c1 = ColorBook(\"Seaborn\", \"John Doe\", 90000, \"green\", True)\n",
    "c1.name"
   ]
  },
  {
   "cell_type": "code",
   "execution_count": 38,
   "id": "consolidated-niger",
   "metadata": {},
   "outputs": [
    {
     "data": {
      "text/plain": [
       "'green'"
      ]
     },
     "execution_count": 38,
     "metadata": {},
     "output_type": "execute_result"
    }
   ],
   "source": [
    "c1.color"
   ]
  },
  {
   "cell_type": "markdown",
   "id": "improving-plumbing",
   "metadata": {},
   "source": [
    "The child class also inherits the class variables."
   ]
  },
  {
   "cell_type": "code",
   "execution_count": 39,
   "id": "advanced-montana",
   "metadata": {},
   "outputs": [
    {
     "data": {
      "text/plain": [
       "'blue'"
      ]
     },
     "execution_count": 39,
     "metadata": {},
     "output_type": "execute_result"
    }
   ],
   "source": [
    "c1.cover_color"
   ]
  },
  {
   "cell_type": "code",
   "execution_count": 40,
   "id": "decent-visitor",
   "metadata": {},
   "outputs": [
    {
     "data": {
      "text/plain": [
       "14"
      ]
     },
     "execution_count": 40,
     "metadata": {},
     "output_type": "execute_result"
    }
   ],
   "source": [
    "c1.page_width"
   ]
  },
  {
   "cell_type": "markdown",
   "id": "organic-thumb",
   "metadata": {},
   "source": [
    "We have the option to override the data and procedural attributes (i.e. methods) inherited from the parent class. This makes the inheritance even more powerful because we are obligated to use everything in the parent class.\n",
    "\n",
    "For instance, we can modify the __str__ method for the ColorBook class."
   ]
  },
  {
   "cell_type": "code",
   "execution_count": 41,
   "id": "sixth-pierre",
   "metadata": {},
   "outputs": [],
   "source": [
    "class ColorBook(Book):\n",
    "    def __init__(self, name, writer, word_length, color, has_image):\n",
    "        Book.__init__(self, name, writer, word_length)\n",
    "        self.color = color\n",
    "        self.has_image = has_image\n",
    "    def __str__(self):\n",
    "        return \"<\" + self.name + \", in \" + self.color + \">\""
   ]
  },
  {
   "cell_type": "code",
   "execution_count": 42,
   "id": "cubic-latitude",
   "metadata": {},
   "outputs": [
    {
     "name": "stdout",
     "output_type": "stream",
     "text": [
      "<Seaborn, in green>\n"
     ]
    }
   ],
   "source": [
    "c1 = ColorBook(\"Seaborn\", \"John Doe\", 90000, \"green\", True)\n",
    "print(c1)\n"
   ]
  },
  {
   "cell_type": "code",
   "execution_count": null,
   "id": "applicable-arbitration",
   "metadata": {},
   "outputs": [],
   "source": []
  }
 ],
 "metadata": {
  "kernelspec": {
   "display_name": "Python [conda env:miniconda3-cmip6]",
   "language": "python",
   "name": "conda-env-miniconda3-cmip6-py"
  },
  "language_info": {
   "codemirror_mode": {
    "name": "ipython",
    "version": 3
   },
   "file_extension": ".py",
   "mimetype": "text/x-python",
   "name": "python",
   "nbconvert_exporter": "python",
   "pygments_lexer": "ipython3",
   "version": "3.8.5"
  }
 },
 "nbformat": 4,
 "nbformat_minor": 5
}
